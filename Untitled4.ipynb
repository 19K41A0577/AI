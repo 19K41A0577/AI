{
  "nbformat": 4,
  "nbformat_minor": 0,
  "metadata": {
    "colab": {
      "name": "Untitled4.ipynb",
      "provenance": [],
      "authorship_tag": "ABX9TyPUuPLQjaLTnzff4uuy5NIE",
      "include_colab_link": true
    },
    "kernelspec": {
      "name": "python3",
      "display_name": "Python 3"
    },
    "language_info": {
      "name": "python"
    }
  },
  "cells": [
    {
      "cell_type": "markdown",
      "metadata": {
        "id": "view-in-github",
        "colab_type": "text"
      },
      "source": [
        "<a href=\"https://colab.research.google.com/github/19K41A0577/AI/blob/main/Untitled4.ipynb\" target=\"_parent\"><img src=\"https://colab.research.google.com/assets/colab-badge.svg\" alt=\"Open In Colab\"/></a>"
      ]
    },
    {
      "cell_type": "code",
      "metadata": {
        "colab": {
          "base_uri": "https://localhost:8080/"
        },
        "id": "2223_O0CEns-",
        "outputId": "e90eba6b-b193-4c32-c8f1-ec37e2fef353"
      },
      "source": [
        "import numpy as np\n",
        "import math\n",
        "x=np.random.uniform(-100,100)\n",
        "y=np.random.uniform(-100,100)\n",
        "eta=0.001\n",
        "iter_max=10000\n",
        "i=1\n",
        "while i<=iter_max:\n",
        "   slope1 = 6*x\n",
        "   slope2 = -5*math.exp(-y)\n",
        "   steplength1= -eta*slope1\n",
        "   steplength2= -eta*slope2\n",
        "   x=x+ steplength1\n",
        "   y=y+ steplength2\n",
        "   i=i+1\n",
        "print(\"x : \",round(x))\n",
        "print(\"y : \",round(y))\n",
        "obj=3 * x*x+5* math.exp(-y)+10\n",
        "print(\"objective function  :\",obj)"
      ],
      "execution_count": 2,
      "outputs": [
        {
          "output_type": "stream",
          "name": "stdout",
          "text": [
            "x :  0\n",
            "y :  24\n",
            "objective function  : 10.000000000233033\n"
          ]
        }
      ]
    }
  ]
}